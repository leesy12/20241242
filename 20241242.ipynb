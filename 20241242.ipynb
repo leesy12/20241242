{
 "cells": [
  {
   "cell_type": "markdown",
   "metadata": {},
   "source": [
    "# 1.LeetCode 225"
   ]
  },
  {
   "cell_type": "code",
   "execution_count": null,
   "metadata": {},
   "outputs": [],
   "source": [
    "from collections import deque\n",
    "\n",
    "class MyStack:\n",
    "\n",
    "    def __init__(self):\n",
    "        self.q = deque()\n",
    "\n",
    "    def push(self, x: int) -> None:\n",
    "        self.q.append(x)\n",
    "        for _ in range(len(self.q) - 1):\n",
    "            self.q.append(self.q.popleft())\n",
    "\n",
    "    def pop(self) -> int:\n",
    "        return self.q.popleft()\n",
    "\n",
    "    def top(self) -> int:\n",
    "        return self.q[0]\n",
    "\n",
    "    def empty(self) -> bool:\n",
    "        return not self.q\n"
   ]
  },
  {
   "cell_type": "markdown",
   "metadata": {},
   "source": [
    "# 2.LeetCode 232"
   ]
  },
  {
   "cell_type": "code",
   "execution_count": null,
   "metadata": {},
   "outputs": [],
   "source": [
    "class MyQueue:\n",
    "\n",
    "    def __init__(self):\n",
    "        self.in_stack = []\n",
    "        self.out_stack = []\n",
    "\n",
    "    def push(self, x: int) -> None:\n",
    "        self.in_stack.append(x)\n",
    "\n",
    "    def pop(self) -> int:\n",
    "        self.peek()\n",
    "        return self.out_stack.pop()\n",
    "\n",
    "    def peek(self) -> int:\n",
    "        if not self.out_stack:\n",
    "            while self.in_stack:\n",
    "                self.out_stack.append(self.in_stack.pop())\n",
    "        return self.out_stack[-1]\n",
    "\n",
    "    def empty(self) -> bool:\n",
    "        return not self.in_stack and not self.out_stack"
   ]
  },
  {
   "cell_type": "markdown",
   "metadata": {},
   "source": [
    "# 3.연습문제 풀이"
   ]
  },
  {
   "cell_type": "markdown",
   "metadata": {},
   "source": [
    "## 01번"
   ]
  },
  {
   "cell_type": "code",
   "execution_count": null,
   "metadata": {},
   "outputs": [],
   "source": [
    "class ListQueue:\n",
    "    def __init__(self):\n",
    "        self.__queue = []\n",
    "\n",
    "    def enqueue(self, x):\n",
    "        self.__queue.insert(0, x)\n",
    "\n",
    "    def dequeue(self):\n",
    "        return self.__queue.pop()\n",
    "\n",
    "    def front(self):\n",
    "        return self.__queue[-1]\n",
    "\n",
    "    def isEmpty(self) -> bool:\n",
    "        return len(self.__queue) == 0\n",
    "\n",
    "    def dequeueAll(self):\n",
    "        self.__queue.clear()\n"
   ]
  },
  {
   "cell_type": "markdown",
   "metadata": {},
   "source": [
    "## 02번"
   ]
  },
  {
   "cell_type": "code",
   "execution_count": null,
   "metadata": {},
   "outputs": [],
   "source": [
    "from collections import deque\n",
    "\n",
    "def isPalindromeForm(s):\n",
    "    q = deque()\n",
    "    i = 0\n",
    "\n",
    "    while i < len(s) and s[i] != '$':\n",
    "        q.append(s[i])\n",
    "        i += 1\n",
    "\n",
    "    if i == len(s):\n",
    "        return False\n",
    "    \n",
    "    i += 1  \n",
    "    while i < len(s):\n",
    "        if not q:\n",
    "            return False\n",
    "        if s[i] != q.pop():\n",
    "            return False\n",
    "        i += 1\n",
    "\n",
    "    return not q\n",
    "\n",
    "print(isPalindromeForm(\"abc$cba\"))  \n",
    "print(isPalindromeForm(\"race$ecar\"))\n"
   ]
  },
  {
   "cell_type": "markdown",
   "metadata": {},
   "source": [
    "## 03번"
   ]
  },
  {
   "cell_type": "code",
   "execution_count": null,
   "metadata": {},
   "outputs": [],
   "source": [
    "def copyQueue(a: LinkedQueue) -> LinkedQueue:\n",
    "    b = LinkedQueue()\n",
    "    current = a.front\n",
    "    while current is not None:\n",
    "        b.enqueue(current.item)\n",
    "        current = current.link\n",
    "    return b\n"
   ]
  },
  {
   "cell_type": "markdown",
   "metadata": {},
   "source": [
    "## 04번"
   ]
  },
  {
   "cell_type": "code",
   "execution_count": null,
   "metadata": {},
   "outputs": [],
   "source": [
    "from collections import deque\n",
    "\n",
    "class StackUsingQueues:\n",
    "    def __init__(self):\n",
    "        self.q1 = deque()\n",
    "        self.q2 = deque()\n",
    "    \n",
    "    def push(self, x):\n",
    "        self.q1.append(x)\n",
    "    \n",
    "    def pop(self):\n",
    "        if not self.q1:\n",
    "            raise Exception(\"Stack is empty\")\n",
    "\n",
    "\n",
    "        while len(self.q1) > 1:\n",
    "            self.q2.append(self.q1.popleft())\n",
    "        \n",
    "        popped_item = self.q1.popleft()\n",
    "\n",
    "\n",
    "        self.q1, self.q2 = self.q2, self.q1\n",
    "        \n",
    "        return popped_item\n",
    "\n",
    "    def isEmpty(self):\n",
    "        return not self.q1\n",
    "\n",
    "    def top(self):\n",
    "        if not self.q1:\n",
    "            raise Exception(\"Stack is empty\")\n",
    "        \n",
    "        while len(self.q1) > 1:\n",
    "            self.q2.append(self.q1.popleft())\n",
    "        \n",
    "        top_item = self.q1.popleft()\n",
    "        self.q2.append(top_item)\n",
    "\n",
    "        self.q1, self.q2 = self.q2, self.q1\n",
    "\n",
    "        return top_item\n"
   ]
  },
  {
   "cell_type": "markdown",
   "metadata": {},
   "source": [
    "## 05번"
   ]
  },
  {
   "cell_type": "code",
   "execution_count": null,
   "metadata": {},
   "outputs": [],
   "source": [
    "class QueueUsingStacks:\n",
    "    def __init__(self):\n",
    "        self.stack_in = []\n",
    "        self.stack_out = []\n",
    "\n",
    "    def enqueue(self, x):\n",
    "        self.stack_in.append(x)\n",
    "\n",
    "    def dequeue(self):\n",
    "        if not self.stack_out:\n",
    "            while self.stack_in:\n",
    "                self.stack_out.append(self.stack_in.pop())\n",
    "\n",
    "        if not self.stack_out:\n",
    "            raise Exception(\"Queue is empty\")\n",
    "\n",
    "        return self.stack_out.pop()\n",
    "\n",
    "    def isEmpty(self):\n",
    "        return not self.stack_in and not self.stack_out\n",
    "\n",
    "    def front(self):\n",
    "        if not self.stack_out:\n",
    "            while self.stack_in:\n",
    "                self.stack_out.append(self.stack_in.pop())\n",
    "\n",
    "        if not self.stack_out:\n",
    "            raise Exception(\"Queue is empty\")\n",
    "\n",
    "        return self.stack_out[-1]\n"
   ]
  },
  {
   "cell_type": "markdown",
   "metadata": {},
   "source": [
    "## 06번"
   ]
  },
  {
   "cell_type": "code",
   "execution_count": null,
   "metadata": {},
   "outputs": [],
   "source": [
    "# enqueue()의 시간복잡도: O(1)\n",
    "# dequeue()의 시간복잡도: O(1)"
   ]
  },
  {
   "cell_type": "markdown",
   "metadata": {},
   "source": [
    "## 07번"
   ]
  },
  {
   "cell_type": "code",
   "execution_count": null,
   "metadata": {},
   "outputs": [],
   "source": [
    "# enqueue()의 시간복잡도: O(1)\n",
    "# dequeue()의 시간복잡도: O(1)"
   ]
  },
  {
   "cell_type": "markdown",
   "metadata": {},
   "source": [
    "## 08번"
   ]
  },
  {
   "cell_type": "code",
   "execution_count": null,
   "metadata": {},
   "outputs": [],
   "source": [
    "class Deque:\n",
    "    def __init__(self):\n",
    "        self.__queue = []\n",
    "\n",
    "    def addRear(self, x):          \n",
    "        self.__queue.append(x)    \n",
    "\n",
    "    def deleteFront(self):         \n",
    "        return self.__queue.pop(0) if not self.isEmpty() else None\n",
    "\n",
    "    def addFront(self, x):         \n",
    "        self.__queue.insert(0, x) \n",
    "\n",
    "    def deleteRear(self):         \n",
    "        return self.__queue.pop() if not self.isEmpty() else None\n",
    "\n",
    "    def front(self):\n",
    "        return self.__queue[0] if not self.isEmpty() else None\n",
    "\n",
    "    def rear(self):                \n",
    "        return self.__queue[-1] if not self.isEmpty() else None\n",
    "\n",
    "    def isEmpty(self) -> bool:\n",
    "        return len(self.__queue) == 0\n",
    "\n",
    "    def dequeueAll(self):\n",
    "        self.__queue.clear()\n",
    "\n",
    "    def printQueue(self):\n",
    "        print(\"Deque from front:\", end=' ')\n",
    "        for i in range(len(self.__queue)):\n",
    "            print(self.__queue[i], end=' ')\n",
    "        print()\n"
   ]
  }
 ],
 "metadata": {
  "language_info": {
   "name": "python"
  }
 },
 "nbformat": 4,
 "nbformat_minor": 2
}
